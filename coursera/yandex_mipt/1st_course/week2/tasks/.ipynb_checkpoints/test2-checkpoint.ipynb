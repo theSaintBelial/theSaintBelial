{
 "cells": [
  {
   "cell_type": "code",
   "execution_count": 1,
   "metadata": {},
   "outputs": [],
   "source": [
    "import numpy as np\n",
    "from scipy import interpolate\n",
    "import math"
   ]
  },
  {
   "cell_type": "code",
   "execution_count": 2,
   "metadata": {},
   "outputs": [],
   "source": [
    "def our_func(x):\n",
    "    return np.sin(x / 5) * np.exp(x / 10) + 5 * np.exp(-(x / 2)"
   ]
  },
  {
   "cell_type": "code",
   "execution_count": 7,
   "metadata": {},
   "outputs": [],
   "source": [
    "b = np.array([our_func(x) for x in range(1, 16)])"
   ]
  },
  {
   "cell_type": "code",
   "execution_count": 8,
   "metadata": {},
   "outputs": [
    {
     "data": {
      "text/plain": [
       "array([3.25221687, 2.31503384, 1.87783842, 1.74684595, 1.7977761 ,\n",
       "       1.94722128, 2.13543898, 2.31617016, 2.45082365, 2.50541641,\n",
       "       2.44929128, 2.2550105 , 1.89904466, 1.36300335, 0.63522142])"
      ]
     },
     "execution_count": 8,
     "metadata": {},
     "output_type": "execute_result"
    }
   ],
   "source": [
    "b"
   ]
  },
  {
   "cell_type": "code",
   "execution_count": 9,
   "metadata": {},
   "outputs": [],
   "source": [
    "A = np.ones((15, 15))"
   ]
  },
  {
   "cell_type": "code",
   "execution_count": 10,
   "metadata": {},
   "outputs": [
    {
     "data": {
      "text/plain": [
       "array([[1., 1., 1., 1., 1., 1., 1., 1., 1., 1., 1., 1., 1., 1., 1.],\n",
       "       [1., 1., 1., 1., 1., 1., 1., 1., 1., 1., 1., 1., 1., 1., 1.],\n",
       "       [1., 1., 1., 1., 1., 1., 1., 1., 1., 1., 1., 1., 1., 1., 1.],\n",
       "       [1., 1., 1., 1., 1., 1., 1., 1., 1., 1., 1., 1., 1., 1., 1.],\n",
       "       [1., 1., 1., 1., 1., 1., 1., 1., 1., 1., 1., 1., 1., 1., 1.],\n",
       "       [1., 1., 1., 1., 1., 1., 1., 1., 1., 1., 1., 1., 1., 1., 1.],\n",
       "       [1., 1., 1., 1., 1., 1., 1., 1., 1., 1., 1., 1., 1., 1., 1.],\n",
       "       [1., 1., 1., 1., 1., 1., 1., 1., 1., 1., 1., 1., 1., 1., 1.],\n",
       "       [1., 1., 1., 1., 1., 1., 1., 1., 1., 1., 1., 1., 1., 1., 1.],\n",
       "       [1., 1., 1., 1., 1., 1., 1., 1., 1., 1., 1., 1., 1., 1., 1.],\n",
       "       [1., 1., 1., 1., 1., 1., 1., 1., 1., 1., 1., 1., 1., 1., 1.],\n",
       "       [1., 1., 1., 1., 1., 1., 1., 1., 1., 1., 1., 1., 1., 1., 1.],\n",
       "       [1., 1., 1., 1., 1., 1., 1., 1., 1., 1., 1., 1., 1., 1., 1.],\n",
       "       [1., 1., 1., 1., 1., 1., 1., 1., 1., 1., 1., 1., 1., 1., 1.],\n",
       "       [1., 1., 1., 1., 1., 1., 1., 1., 1., 1., 1., 1., 1., 1., 1.]])"
      ]
     },
     "execution_count": 10,
     "metadata": {},
     "output_type": "execute_result"
    }
   ],
   "source": [
    "A"
   ]
  },
  {
   "cell_type": "code",
   "execution_count": 11,
   "metadata": {},
   "outputs": [],
   "source": [
    "for i in range(15):\n",
    "    for j in range(15):\n",
    "        A[i, j] = (i + 1) ** (j + 1)"
   ]
  },
  {
   "cell_type": "code",
   "execution_count": 12,
   "metadata": {},
   "outputs": [
    {
     "data": {
      "text/plain": [
       "array([[1.00000000e+00, 1.00000000e+00, 1.00000000e+00, 1.00000000e+00,\n",
       "        1.00000000e+00, 1.00000000e+00, 1.00000000e+00, 1.00000000e+00,\n",
       "        1.00000000e+00, 1.00000000e+00, 1.00000000e+00, 1.00000000e+00,\n",
       "        1.00000000e+00, 1.00000000e+00, 1.00000000e+00],\n",
       "       [2.00000000e+00, 4.00000000e+00, 8.00000000e+00, 1.60000000e+01,\n",
       "        3.20000000e+01, 6.40000000e+01, 1.28000000e+02, 2.56000000e+02,\n",
       "        5.12000000e+02, 1.02400000e+03, 2.04800000e+03, 4.09600000e+03,\n",
       "        8.19200000e+03, 1.63840000e+04, 3.27680000e+04],\n",
       "       [3.00000000e+00, 9.00000000e+00, 2.70000000e+01, 8.10000000e+01,\n",
       "        2.43000000e+02, 7.29000000e+02, 2.18700000e+03, 6.56100000e+03,\n",
       "        1.96830000e+04, 5.90490000e+04, 1.77147000e+05, 5.31441000e+05,\n",
       "        1.59432300e+06, 4.78296900e+06, 1.43489070e+07],\n",
       "       [4.00000000e+00, 1.60000000e+01, 6.40000000e+01, 2.56000000e+02,\n",
       "        1.02400000e+03, 4.09600000e+03, 1.63840000e+04, 6.55360000e+04,\n",
       "        2.62144000e+05, 1.04857600e+06, 4.19430400e+06, 1.67772160e+07,\n",
       "        6.71088640e+07, 2.68435456e+08, 1.07374182e+09],\n",
       "       [5.00000000e+00, 2.50000000e+01, 1.25000000e+02, 6.25000000e+02,\n",
       "        3.12500000e+03, 1.56250000e+04, 7.81250000e+04, 3.90625000e+05,\n",
       "        1.95312500e+06, 9.76562500e+06, 4.88281250e+07, 2.44140625e+08,\n",
       "        1.22070312e+09, 6.10351562e+09, 3.05175781e+10],\n",
       "       [6.00000000e+00, 3.60000000e+01, 2.16000000e+02, 1.29600000e+03,\n",
       "        7.77600000e+03, 4.66560000e+04, 2.79936000e+05, 1.67961600e+06,\n",
       "        1.00776960e+07, 6.04661760e+07, 3.62797056e+08, 2.17678234e+09,\n",
       "        1.30606940e+10, 7.83641641e+10, 4.70184985e+11],\n",
       "       [7.00000000e+00, 4.90000000e+01, 3.43000000e+02, 2.40100000e+03,\n",
       "        1.68070000e+04, 1.17649000e+05, 8.23543000e+05, 5.76480100e+06,\n",
       "        4.03536070e+07, 2.82475249e+08, 1.97732674e+09, 1.38412872e+10,\n",
       "        9.68890104e+10, 6.78223073e+11, 4.74756151e+12],\n",
       "       [8.00000000e+00, 6.40000000e+01, 5.12000000e+02, 4.09600000e+03,\n",
       "        3.27680000e+04, 2.62144000e+05, 2.09715200e+06, 1.67772160e+07,\n",
       "        1.34217728e+08, 1.07374182e+09, 8.58993459e+09, 6.87194767e+10,\n",
       "        5.49755814e+11, 4.39804651e+12, 3.51843721e+13],\n",
       "       [9.00000000e+00, 8.10000000e+01, 7.29000000e+02, 6.56100000e+03,\n",
       "        5.90490000e+04, 5.31441000e+05, 4.78296900e+06, 4.30467210e+07,\n",
       "        3.87420489e+08, 3.48678440e+09, 3.13810596e+10, 2.82429536e+11,\n",
       "        2.54186583e+12, 2.28767925e+13, 2.05891132e+14],\n",
       "       [1.00000000e+01, 1.00000000e+02, 1.00000000e+03, 1.00000000e+04,\n",
       "        1.00000000e+05, 1.00000000e+06, 1.00000000e+07, 1.00000000e+08,\n",
       "        1.00000000e+09, 1.00000000e+10, 1.00000000e+11, 1.00000000e+12,\n",
       "        1.00000000e+13, 1.00000000e+14, 1.00000000e+15],\n",
       "       [1.10000000e+01, 1.21000000e+02, 1.33100000e+03, 1.46410000e+04,\n",
       "        1.61051000e+05, 1.77156100e+06, 1.94871710e+07, 2.14358881e+08,\n",
       "        2.35794769e+09, 2.59374246e+10, 2.85311671e+11, 3.13842838e+12,\n",
       "        3.45227121e+13, 3.79749834e+14, 4.17724817e+15],\n",
       "       [1.20000000e+01, 1.44000000e+02, 1.72800000e+03, 2.07360000e+04,\n",
       "        2.48832000e+05, 2.98598400e+06, 3.58318080e+07, 4.29981696e+08,\n",
       "        5.15978035e+09, 6.19173642e+10, 7.43008371e+11, 8.91610045e+12,\n",
       "        1.06993205e+14, 1.28391846e+15, 1.54070216e+16],\n",
       "       [1.30000000e+01, 1.69000000e+02, 2.19700000e+03, 2.85610000e+04,\n",
       "        3.71293000e+05, 4.82680900e+06, 6.27485170e+07, 8.15730721e+08,\n",
       "        1.06044994e+10, 1.37858492e+11, 1.79216039e+12, 2.32980851e+13,\n",
       "        3.02875107e+14, 3.93737639e+15, 5.11858930e+16],\n",
       "       [1.40000000e+01, 1.96000000e+02, 2.74400000e+03, 3.84160000e+04,\n",
       "        5.37824000e+05, 7.52953600e+06, 1.05413504e+08, 1.47578906e+09,\n",
       "        2.06610468e+10, 2.89254655e+11, 4.04956517e+12, 5.66939124e+13,\n",
       "        7.93714773e+14, 1.11120068e+16, 1.55568096e+17],\n",
       "       [1.50000000e+01, 2.25000000e+02, 3.37500000e+03, 5.06250000e+04,\n",
       "        7.59375000e+05, 1.13906250e+07, 1.70859375e+08, 2.56289062e+09,\n",
       "        3.84433594e+10, 5.76650391e+11, 8.64975586e+12, 1.29746338e+14,\n",
       "        1.94619507e+15, 2.91929260e+16, 4.37893890e+17]])"
      ]
     },
     "execution_count": 12,
     "metadata": {},
     "output_type": "execute_result"
    }
   ],
   "source": [
    "A"
   ]
  },
  {
   "cell_type": "code",
   "execution_count": 13,
   "metadata": {},
   "outputs": [],
   "source": [
    "from scipy import linalg"
   ]
  },
  {
   "cell_type": "code",
   "execution_count": 16,
   "metadata": {},
   "outputs": [
    {
     "name": "stderr",
     "output_type": "stream",
     "text": [
      "D:\\Anaconda\\lib\\site-packages\\ipykernel_launcher.py:1: LinAlgWarning: Ill-conditioned matrix (rcond=1.16759e-22): result may not be accurate.\n",
      "  \"\"\"Entry point for launching an IPython kernel.\n"
     ]
    }
   ],
   "source": [
    "w = linalg.solve(A, b)"
   ]
  },
  {
   "cell_type": "code",
   "execution_count": 17,
   "metadata": {},
   "outputs": [
    {
     "data": {
      "text/plain": [
       "array([ 1.42911414e+01, -2.29304974e+01,  1.92313226e+01, -1.03367908e+01,\n",
       "        3.85925350e+00, -1.04297511e+00,  2.08878442e-01, -3.13819826e-02,\n",
       "        3.54861424e-03, -3.00372622e-04,  1.87339924e-05, -8.35065552e-07,\n",
       "        2.51590276e-08, -4.58827200e-10,  3.82355924e-12])"
      ]
     },
     "execution_count": 17,
     "metadata": {},
     "output_type": "execute_result"
    }
   ],
   "source": [
    "w"
   ]
  },
  {
   "cell_type": "code",
   "execution_count": 18,
   "metadata": {},
   "outputs": [],
   "source": [
    "def func(w, x):\n",
    "    value = 0.0\n",
    "    \n",
    "    for i in range(len(w)):\n",
    "        value += w[i] * x ** i\n",
    "    return value"
   ]
  },
  {
   "cell_type": "code",
   "execution_count": 19,
   "metadata": {},
   "outputs": [],
   "source": [
    "x = np.arange(1, 16)\n",
    "y = np.array([func(w, x) for x in range(1, 16)])"
   ]
  },
  {
   "cell_type": "code",
   "execution_count": 27,
   "metadata": {},
   "outputs": [
    {
     "data": {
      "image/png": "[encoded data removed]",
      "text/plain": [
       "<Figure size 432x288 with 1 Axes>"
      ]
     },
     "metadata": {
      "needs_background": "light"
     },
     "output_type": "display_data"
    }
   ],
   "source": [
    "import matplotlib.pyplot as plt\n",
    "\n",
    "f = interpolate.interp1d(x, y, kind='cubic')\n",
    "\n",
    "x_new = np.arange(1, 15, 0.1)\n",
    "y_new = f(x_new)\n",
    "\n",
    "plt.plot(x, y, 'o', x_new, y_new, '-')\n",
    "plt.show()"
   ]
  },
  {
   "cell_type": "code",
   "execution_count": null,
   "metadata": {},
   "outputs": [],
   "source": []
  }
 ],
 "metadata": {
  "kernelspec": {
   "display_name": "Python 3",
   "language": "python",
   "name": "python3"
  },
  "language_info": {
   "codemirror_mode": {
    "name": "ipython",
    "version": 3
   },
   "file_extension": ".py",
   "mimetype": "text/x-python",
   "name": "python",
   "nbconvert_exporter": "python",
   "pygments_lexer": "ipython3",
   "version": "3.7.6"
  }
 },
 "nbformat": 4,
 "nbformat_minor": 4
}
